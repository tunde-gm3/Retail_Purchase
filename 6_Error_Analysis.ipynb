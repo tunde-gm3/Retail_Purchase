{
 "cells": [
  {
   "cell_type": "code",
   "execution_count": 1,
   "metadata": {},
   "outputs": [],
   "source": [
    "import numpy as np\n",
    "import pandas as pd\n",
    "import random\n",
    "\n",
    "from surprise import SVD\n",
    "from surprise import SVDpp\n",
    "from surprise import NMF\n",
    "from surprise import KNNBasic\n",
    "from surprise import KNNWithZScore\n",
    "from surprise import Dataset\n",
    "from surprise import Reader\n",
    "from surprise.model_selection import cross_validate\n",
    "\n",
    "from surprise.model_selection import GridSearchCV\n",
    "\n",
    "my_seed = 0\n",
    "random.seed(my_seed)\n",
    "np.random.seed(my_seed)"
   ]
  },
  {
   "cell_type": "code",
   "execution_count": 2,
   "metadata": {},
   "outputs": [],
   "source": [
    "# train and test data sets\n",
    "train_data = pd.read_csv('./Files_Folder/train_data.csv')\n",
    "\n",
    "test_data = pd.read_csv('./Files_Folder/test_data.csv')"
   ]
  },
  {
   "cell_type": "code",
   "execution_count": 3,
   "metadata": {},
   "outputs": [
    {
     "name": "stdout",
     "output_type": "stream",
     "text": [
      "(495062, 12)\n",
      "(27503, 12)\n"
     ]
    }
   ],
   "source": [
    "print (train_data.shape)\n",
    "print (test_data.shape)"
   ]
  },
  {
   "cell_type": "code",
   "execution_count": 4,
   "metadata": {},
   "outputs": [],
   "source": [
    "# Reading all the predicted values\n",
    "train_data_pred = pd.read_csv('./Files_Folder/Predicted_train_Result_SVD.csv')\n",
    "test_data_mean_pred = pd.read_csv('./Files_Folder/Predicted_test_SVD_mean.csv')\n",
    "test_data_median_pred = pd.read_csv('./Files_Folder/Predicted_test_SVD_median.csv')"
   ]
  },
  {
   "cell_type": "code",
   "execution_count": 5,
   "metadata": {},
   "outputs": [
    {
     "name": "stdout",
     "output_type": "stream",
     "text": [
      "(495062, 3)\n",
      "(27503, 3)\n",
      "(27503, 3)\n",
      "(27495, 3)\n",
      "(8, 3)\n",
      "(8, 3)\n"
     ]
    }
   ],
   "source": [
    "print (train_data_pred.shape)\n",
    "print (test_data_mean_pred.shape)\n",
    "print (test_data_median_pred.shape)"
   ]
  },
  {
   "cell_type": "code",
   "execution_count": 6,
   "metadata": {},
   "outputs": [
    {
     "data": {
      "text/plain": [
       "User_ID         int64\n",
       "Product_ID     object\n",
       "Purchase      float64\n",
       "dtype: object"
      ]
     },
     "execution_count": 6,
     "metadata": {},
     "output_type": "execute_result"
    }
   ],
   "source": [
    "train_data_pred.dtypes"
   ]
  },
  {
   "cell_type": "code",
   "execution_count": 7,
   "metadata": {},
   "outputs": [],
   "source": [
    "train_data_pred.columns = ['User_ID', 'Product_ID', 'Predicted_Purchase']\n",
    "test_data_mean_pred.columns = ['User_ID', 'Product_ID', 'Predicted_Purchase']\n",
    "test_data_median_pred.columns = ['User_ID', 'Product_ID', 'Predicted_Purchase']"
   ]
  },
  {
   "cell_type": "code",
   "execution_count": 9,
   "metadata": {},
   "outputs": [],
   "source": [
    "train_data_pred['Actual_Purchase'] = train_data['Purchase']\n",
    "test_data_mean_pred['Actual_Purchase'] = test_data['Purchase']\n",
    "test_data_median_pred['Actual_Purchase'] = test_data['Purchase']"
   ]
  },
  {
   "cell_type": "code",
   "execution_count": 10,
   "metadata": {},
   "outputs": [],
   "source": [
    "train_data_pred['Error'] = train_data_pred['Predicted_Purchase'] - train_data_pred['Actual_Purchase']\n",
    "test_data_mean_pred['Error'] = test_data_mean_pred['Predicted_Purchase'] - test_data_mean_pred['Actual_Purchase']\n",
    "test_data_median_pred['Error'] = test_data_median_pred['Predicted_Purchase'] - test_data_median_pred['Actual_Purchase']"
   ]
  },
  {
   "cell_type": "code",
   "execution_count": 11,
   "metadata": {},
   "outputs": [],
   "source": [
    "train_data_pred['Error_sq'] = train_data_pred['Error']*train_data_pred['Error']\n",
    "test_data_mean_pred['Error_sq'] = test_data_mean_pred['Error']*test_data_mean_pred['Error']\n",
    "test_data_median_pred['Error_sq'] = test_data_median_pred['Error']*test_data_median_pred['Error']"
   ]
  },
  {
   "cell_type": "code",
   "execution_count": 12,
   "metadata": {},
   "outputs": [],
   "source": [
    "rmse_train_data_pred = np.sqrt(train_data_pred.Error_sq.sum()/train_data_pred.shape[0])\n",
    "rmse_test_data_mean_pred = np.sqrt(test_data_mean_pred.Error_sq.sum()/test_data_mean_pred.shape[0])\n",
    "rmse_test_data_median_pred = np.sqrt(test_data_median_pred.Error_sq.sum()/test_data_median_pred.shape[0])"
   ]
  },
  {
   "cell_type": "code",
   "execution_count": 13,
   "metadata": {},
   "outputs": [
    {
     "name": "stdout",
     "output_type": "stream",
     "text": [
      "2043.858948138422\n",
      "2408.484797052712\n",
      "2408.714176669016\n"
     ]
    }
   ],
   "source": [
    "print (rmse_train_data_pred)\n",
    "print (rmse_test_data_mean_pred)\n",
    "print (rmse_test_data_median_pred)"
   ]
  },
  {
   "cell_type": "code",
   "execution_count": 14,
   "metadata": {},
   "outputs": [
    {
     "data": {
      "text/plain": [
       "(27503, 6)"
      ]
     },
     "execution_count": 14,
     "metadata": {},
     "output_type": "execute_result"
    }
   ],
   "source": [
    "test_data_mean_pred.shape"
   ]
  },
  {
   "cell_type": "code",
   "execution_count": 15,
   "metadata": {},
   "outputs": [
    {
     "data": {
      "text/plain": [
       "(27495, 6)"
      ]
     },
     "execution_count": 15,
     "metadata": {},
     "output_type": "execute_result"
    }
   ],
   "source": [
    "test_data_mean_pred_2 = test_data_mean_pred.drop(test_data_newid.index)\n",
    "test_data_mean_pred_2.shape"
   ]
  },
  {
   "cell_type": "code",
   "execution_count": 16,
   "metadata": {},
   "outputs": [
    {
     "data": {
      "text/plain": [
       "2408.406716042237"
      ]
     },
     "execution_count": 16,
     "metadata": {},
     "output_type": "execute_result"
    }
   ],
   "source": [
    "np.sqrt(test_data_mean_pred_2.Error_sq.sum()/test_data_mean_pred_2.shape[0])"
   ]
  },
  {
   "cell_type": "code",
   "execution_count": 17,
   "metadata": {},
   "outputs": [
    {
     "data": {
      "text/html": [
       "<div>\n",
       "<style scoped>\n",
       "    .dataframe tbody tr th:only-of-type {\n",
       "        vertical-align: middle;\n",
       "    }\n",
       "\n",
       "    .dataframe tbody tr th {\n",
       "        vertical-align: top;\n",
       "    }\n",
       "\n",
       "    .dataframe thead th {\n",
       "        text-align: right;\n",
       "    }\n",
       "</style>\n",
       "<table border=\"1\" class=\"dataframe\">\n",
       "  <thead>\n",
       "    <tr style=\"text-align: right;\">\n",
       "      <th></th>\n",
       "      <th>User_ID</th>\n",
       "      <th>Occupation</th>\n",
       "      <th>Marital_Status</th>\n",
       "      <th>Product_Category_1</th>\n",
       "      <th>Product_Category_2</th>\n",
       "      <th>Product_Category_3</th>\n",
       "      <th>Purchase</th>\n",
       "    </tr>\n",
       "  </thead>\n",
       "  <tbody>\n",
       "    <tr>\n",
       "      <th>count</th>\n",
       "      <td>4.950620e+05</td>\n",
       "      <td>495062.000000</td>\n",
       "      <td>495062.000000</td>\n",
       "      <td>495062.000000</td>\n",
       "      <td>338906.000000</td>\n",
       "      <td>150075.000000</td>\n",
       "      <td>495062.000000</td>\n",
       "    </tr>\n",
       "    <tr>\n",
       "      <th>mean</th>\n",
       "      <td>1.003027e+06</td>\n",
       "      <td>8.076748</td>\n",
       "      <td>0.409710</td>\n",
       "      <td>5.401764</td>\n",
       "      <td>9.844337</td>\n",
       "      <td>12.671438</td>\n",
       "      <td>9265.688885</td>\n",
       "    </tr>\n",
       "    <tr>\n",
       "      <th>std</th>\n",
       "      <td>1.727099e+03</td>\n",
       "      <td>6.523106</td>\n",
       "      <td>0.491781</td>\n",
       "      <td>3.935342</td>\n",
       "      <td>5.087848</td>\n",
       "      <td>4.124031</td>\n",
       "      <td>5023.842930</td>\n",
       "    </tr>\n",
       "    <tr>\n",
       "      <th>min</th>\n",
       "      <td>1.000001e+06</td>\n",
       "      <td>0.000000</td>\n",
       "      <td>0.000000</td>\n",
       "      <td>1.000000</td>\n",
       "      <td>2.000000</td>\n",
       "      <td>3.000000</td>\n",
       "      <td>12.000000</td>\n",
       "    </tr>\n",
       "    <tr>\n",
       "      <th>25%</th>\n",
       "      <td>1.001514e+06</td>\n",
       "      <td>2.000000</td>\n",
       "      <td>0.000000</td>\n",
       "      <td>1.000000</td>\n",
       "      <td>5.000000</td>\n",
       "      <td>9.000000</td>\n",
       "      <td>5823.000000</td>\n",
       "    </tr>\n",
       "    <tr>\n",
       "      <th>50%</th>\n",
       "      <td>1.003075e+06</td>\n",
       "      <td>7.000000</td>\n",
       "      <td>0.000000</td>\n",
       "      <td>5.000000</td>\n",
       "      <td>9.000000</td>\n",
       "      <td>14.000000</td>\n",
       "      <td>8048.000000</td>\n",
       "    </tr>\n",
       "    <tr>\n",
       "      <th>75%</th>\n",
       "      <td>1.004473e+06</td>\n",
       "      <td>14.000000</td>\n",
       "      <td>1.000000</td>\n",
       "      <td>8.000000</td>\n",
       "      <td>15.000000</td>\n",
       "      <td>16.000000</td>\n",
       "      <td>12054.000000</td>\n",
       "    </tr>\n",
       "    <tr>\n",
       "      <th>max</th>\n",
       "      <td>1.006040e+06</td>\n",
       "      <td>20.000000</td>\n",
       "      <td>1.000000</td>\n",
       "      <td>20.000000</td>\n",
       "      <td>18.000000</td>\n",
       "      <td>18.000000</td>\n",
       "      <td>23961.000000</td>\n",
       "    </tr>\n",
       "  </tbody>\n",
       "</table>\n",
       "</div>"
      ],
      "text/plain": [
       "            User_ID     Occupation  Marital_Status  Product_Category_1  \\\n",
       "count  4.950620e+05  495062.000000   495062.000000       495062.000000   \n",
       "mean   1.003027e+06       8.076748        0.409710            5.401764   \n",
       "std    1.727099e+03       6.523106        0.491781            3.935342   \n",
       "min    1.000001e+06       0.000000        0.000000            1.000000   \n",
       "25%    1.001514e+06       2.000000        0.000000            1.000000   \n",
       "50%    1.003075e+06       7.000000        0.000000            5.000000   \n",
       "75%    1.004473e+06      14.000000        1.000000            8.000000   \n",
       "max    1.006040e+06      20.000000        1.000000           20.000000   \n",
       "\n",
       "       Product_Category_2  Product_Category_3       Purchase  \n",
       "count       338906.000000       150075.000000  495062.000000  \n",
       "mean             9.844337           12.671438    9265.688885  \n",
       "std              5.087848            4.124031    5023.842930  \n",
       "min              2.000000            3.000000      12.000000  \n",
       "25%              5.000000            9.000000    5823.000000  \n",
       "50%              9.000000           14.000000    8048.000000  \n",
       "75%             15.000000           16.000000   12054.000000  \n",
       "max             18.000000           18.000000   23961.000000  "
      ]
     },
     "execution_count": 17,
     "metadata": {},
     "output_type": "execute_result"
    }
   ],
   "source": [
    "train_data.describe()"
   ]
  },
  {
   "cell_type": "code",
   "execution_count": null,
   "metadata": {},
   "outputs": [],
   "source": []
  },
  {
   "cell_type": "code",
   "execution_count": null,
   "metadata": {},
   "outputs": [],
   "source": []
  },
  {
   "cell_type": "code",
   "execution_count": null,
   "metadata": {},
   "outputs": [],
   "source": []
  },
  {
   "cell_type": "code",
   "execution_count": null,
   "metadata": {},
   "outputs": [],
   "source": []
  },
  {
   "cell_type": "code",
   "execution_count": null,
   "metadata": {},
   "outputs": [],
   "source": []
  },
  {
   "cell_type": "code",
   "execution_count": null,
   "metadata": {},
   "outputs": [],
   "source": []
  },
  {
   "cell_type": "code",
   "execution_count": null,
   "metadata": {},
   "outputs": [],
   "source": []
  },
  {
   "cell_type": "code",
   "execution_count": null,
   "metadata": {},
   "outputs": [],
   "source": []
  },
  {
   "cell_type": "code",
   "execution_count": null,
   "metadata": {},
   "outputs": [],
   "source": []
  },
  {
   "cell_type": "code",
   "execution_count": null,
   "metadata": {},
   "outputs": [],
   "source": []
  }
 ],
 "metadata": {
  "kernelspec": {
   "display_name": "Python 3",
   "language": "python",
   "name": "python3"
  },
  "language_info": {
   "codemirror_mode": {
    "name": "ipython",
    "version": 3
   },
   "file_extension": ".py",
   "mimetype": "text/x-python",
   "name": "python",
   "nbconvert_exporter": "python",
   "pygments_lexer": "ipython3",
   "version": "3.7.3"
  }
 },
 "nbformat": 4,
 "nbformat_minor": 2
}
