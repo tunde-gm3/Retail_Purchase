{
 "cells": [
  {
   "cell_type": "code",
   "execution_count": 1,
   "metadata": {},
   "outputs": [],
   "source": [
    "import numpy as np\n",
    "import pandas as pd\n",
    "import random\n",
    "\n",
    "from surprise import SVD\n",
    "from surprise import SVDpp\n",
    "from surprise import NMF\n",
    "from surprise import KNNBasic\n",
    "from surprise import KNNWithZScore\n",
    "from surprise import Dataset\n",
    "from surprise import Reader\n",
    "from surprise.model_selection import cross_validate"
   ]
  },
  {
   "cell_type": "code",
   "execution_count": 2,
   "metadata": {},
   "outputs": [],
   "source": [
    "my_seed = 0\n",
    "random.seed(my_seed)\n",
    "np.random.seed(my_seed)"
   ]
  },
  {
   "cell_type": "code",
   "execution_count": 3,
   "metadata": {},
   "outputs": [],
   "source": [
    "# Train data set with Normalized Purchase\n",
    "User_Prod_NP = pd.read_csv('./Files_Folder/User_Prod_NormPurc.csv')\n",
    "\n",
    "# Statistics of each Product_ID in train data sets\n",
    "train_Prod_sta = pd.read_csv('./Files_Folder/train_User_Prod_stat.csv') \n",
    "\n",
    "# Statistics of new Product_IDs; those are Prodcut_IDs in test data set but not in train data set\n",
    "New_Prod_LUT = pd.read_csv('./Files_Folder/New_Product_Details.csv')"
   ]
  },
  {
   "cell_type": "code",
   "execution_count": 4,
   "metadata": {},
   "outputs": [
    {
     "data": {
      "text/html": [
       "<div>\n",
       "<style scoped>\n",
       "    .dataframe tbody tr th:only-of-type {\n",
       "        vertical-align: middle;\n",
       "    }\n",
       "\n",
       "    .dataframe tbody tr th {\n",
       "        vertical-align: top;\n",
       "    }\n",
       "\n",
       "    .dataframe thead th {\n",
       "        text-align: right;\n",
       "    }\n",
       "</style>\n",
       "<table border=\"1\" class=\"dataframe\">\n",
       "  <thead>\n",
       "    <tr style=\"text-align: right;\">\n",
       "      <th></th>\n",
       "      <th>User_ID</th>\n",
       "      <th>Product_ID</th>\n",
       "      <th>Normalized_Purchase</th>\n",
       "    </tr>\n",
       "  </thead>\n",
       "  <tbody>\n",
       "    <tr>\n",
       "      <th>0</th>\n",
       "      <td>1000001</td>\n",
       "      <td>P00069042</td>\n",
       "      <td>3.067944</td>\n",
       "    </tr>\n",
       "    <tr>\n",
       "      <th>1</th>\n",
       "      <td>1000001</td>\n",
       "      <td>P00248942</td>\n",
       "      <td>3.857687</td>\n",
       "    </tr>\n",
       "  </tbody>\n",
       "</table>\n",
       "</div>"
      ],
      "text/plain": [
       "   User_ID Product_ID  Normalized_Purchase\n",
       "0  1000001  P00069042             3.067944\n",
       "1  1000001  P00248942             3.857687"
      ]
     },
     "execution_count": 4,
     "metadata": {},
     "output_type": "execute_result"
    }
   ],
   "source": [
    "User_Prod_NP.head(2)"
   ]
  },
  {
   "cell_type": "code",
   "execution_count": 5,
   "metadata": {},
   "outputs": [
    {
     "data": {
      "text/plain": [
       "(495062, 3)"
      ]
     },
     "execution_count": 5,
     "metadata": {},
     "output_type": "execute_result"
    }
   ],
   "source": [
    "User_Prod_NP.shape"
   ]
  },
  {
   "cell_type": "code",
   "execution_count": 6,
   "metadata": {},
   "outputs": [
    {
     "data": {
      "text/html": [
       "<div>\n",
       "<style scoped>\n",
       "    .dataframe tbody tr th:only-of-type {\n",
       "        vertical-align: middle;\n",
       "    }\n",
       "\n",
       "    .dataframe tbody tr th {\n",
       "        vertical-align: top;\n",
       "    }\n",
       "\n",
       "    .dataframe thead th {\n",
       "        text-align: right;\n",
       "    }\n",
       "</style>\n",
       "<table border=\"1\" class=\"dataframe\">\n",
       "  <thead>\n",
       "    <tr style=\"text-align: right;\">\n",
       "      <th></th>\n",
       "      <th>Unnamed: 0</th>\n",
       "      <th>P00000142</th>\n",
       "      <th>P00000242</th>\n",
       "      <th>P00000342</th>\n",
       "      <th>P00000442</th>\n",
       "      <th>P00000542</th>\n",
       "      <th>P00000642</th>\n",
       "      <th>P00000742</th>\n",
       "      <th>P00000842</th>\n",
       "      <th>P00000942</th>\n",
       "      <th>...</th>\n",
       "      <th>P0098942</th>\n",
       "      <th>P0099042</th>\n",
       "      <th>P0099142</th>\n",
       "      <th>P0099242</th>\n",
       "      <th>P0099342</th>\n",
       "      <th>P0099442</th>\n",
       "      <th>P0099642</th>\n",
       "      <th>P0099742</th>\n",
       "      <th>P0099842</th>\n",
       "      <th>P0099942</th>\n",
       "    </tr>\n",
       "  </thead>\n",
       "  <tbody>\n",
       "    <tr>\n",
       "      <th>0</th>\n",
       "      <td>count</td>\n",
       "      <td>1042.000000</td>\n",
       "      <td>344.000000</td>\n",
       "      <td>220.000000</td>\n",
       "      <td>80.00</td>\n",
       "      <td>135.000000</td>\n",
       "      <td>455.000000</td>\n",
       "      <td>213.000000</td>\n",
       "      <td>31.000000</td>\n",
       "      <td>48.000000</td>\n",
       "      <td>...</td>\n",
       "      <td>30.000000</td>\n",
       "      <td>135.000000</td>\n",
       "      <td>6.000000</td>\n",
       "      <td>235.000000</td>\n",
       "      <td>394.000000</td>\n",
       "      <td>181.000000</td>\n",
       "      <td>13.000000</td>\n",
       "      <td>115.000000</td>\n",
       "      <td>100.00</td>\n",
       "      <td>10.0</td>\n",
       "    </tr>\n",
       "    <tr>\n",
       "      <th>1</th>\n",
       "      <td>mean</td>\n",
       "      <td>11127.769674</td>\n",
       "      <td>10488.671512</td>\n",
       "      <td>5353.263636</td>\n",
       "      <td>4778.95</td>\n",
       "      <td>5412.511111</td>\n",
       "      <td>14921.810989</td>\n",
       "      <td>6051.098592</td>\n",
       "      <td>10004.322581</td>\n",
       "      <td>10611.416667</td>\n",
       "      <td>...</td>\n",
       "      <td>6917.866667</td>\n",
       "      <td>6188.933333</td>\n",
       "      <td>6018.666667</td>\n",
       "      <td>6778.174468</td>\n",
       "      <td>6986.515228</td>\n",
       "      <td>14298.375691</td>\n",
       "      <td>6439.230769</td>\n",
       "      <td>7929.956522</td>\n",
       "      <td>7269.55</td>\n",
       "      <td>5148.4</td>\n",
       "    </tr>\n",
       "  </tbody>\n",
       "</table>\n",
       "<p>2 rows × 3616 columns</p>\n",
       "</div>"
      ],
      "text/plain": [
       "  Unnamed: 0     P00000142     P00000242    P00000342  P00000442    P00000542  \\\n",
       "0      count   1042.000000    344.000000   220.000000      80.00   135.000000   \n",
       "1       mean  11127.769674  10488.671512  5353.263636    4778.95  5412.511111   \n",
       "\n",
       "      P00000642    P00000742     P00000842     P00000942  ...     P0098942  \\\n",
       "0    455.000000   213.000000     31.000000     48.000000  ...    30.000000   \n",
       "1  14921.810989  6051.098592  10004.322581  10611.416667  ...  6917.866667   \n",
       "\n",
       "      P0099042     P0099142     P0099242     P0099342      P0099442  \\\n",
       "0   135.000000     6.000000   235.000000   394.000000    181.000000   \n",
       "1  6188.933333  6018.666667  6778.174468  6986.515228  14298.375691   \n",
       "\n",
       "      P0099642     P0099742  P0099842  P0099942  \n",
       "0    13.000000   115.000000    100.00      10.0  \n",
       "1  6439.230769  7929.956522   7269.55    5148.4  \n",
       "\n",
       "[2 rows x 3616 columns]"
      ]
     },
     "execution_count": 6,
     "metadata": {},
     "output_type": "execute_result"
    }
   ],
   "source": [
    "train_Prod_sta.head(2)"
   ]
  },
  {
   "cell_type": "code",
   "execution_count": 7,
   "metadata": {},
   "outputs": [
    {
     "data": {
      "text/html": [
       "<div>\n",
       "<style scoped>\n",
       "    .dataframe tbody tr th:only-of-type {\n",
       "        vertical-align: middle;\n",
       "    }\n",
       "\n",
       "    .dataframe tbody tr th {\n",
       "        vertical-align: top;\n",
       "    }\n",
       "\n",
       "    .dataframe thead th {\n",
       "        text-align: right;\n",
       "    }\n",
       "</style>\n",
       "<table border=\"1\" class=\"dataframe\">\n",
       "  <thead>\n",
       "    <tr style=\"text-align: right;\">\n",
       "      <th></th>\n",
       "      <th>Product_ID</th>\n",
       "      <th>mean</th>\n",
       "      <th>50%</th>\n",
       "      <th>std</th>\n",
       "      <th>count</th>\n",
       "      <th>min</th>\n",
       "      <th>max</th>\n",
       "      <th>25%</th>\n",
       "      <th>75%</th>\n",
       "    </tr>\n",
       "  </thead>\n",
       "  <tbody>\n",
       "    <tr>\n",
       "      <th>0</th>\n",
       "      <td>P00301942</td>\n",
       "      <td>6101.874236</td>\n",
       "      <td>6886.0</td>\n",
       "      <td>1960.053653</td>\n",
       "      <td>57290.0</td>\n",
       "      <td>1713.0</td>\n",
       "      <td>8907.0</td>\n",
       "      <td>5211.0</td>\n",
       "      <td>7139.0</td>\n",
       "    </tr>\n",
       "    <tr>\n",
       "      <th>1</th>\n",
       "      <td>P00300742</td>\n",
       "      <td>6101.874236</td>\n",
       "      <td>6886.0</td>\n",
       "      <td>1960.053653</td>\n",
       "      <td>57290.0</td>\n",
       "      <td>1713.0</td>\n",
       "      <td>8907.0</td>\n",
       "      <td>5211.0</td>\n",
       "      <td>7139.0</td>\n",
       "    </tr>\n",
       "  </tbody>\n",
       "</table>\n",
       "</div>"
      ],
      "text/plain": [
       "  Product_ID         mean     50%          std    count     min     max  \\\n",
       "0  P00301942  6101.874236  6886.0  1960.053653  57290.0  1713.0  8907.0   \n",
       "1  P00300742  6101.874236  6886.0  1960.053653  57290.0  1713.0  8907.0   \n",
       "\n",
       "      25%     75%  \n",
       "0  5211.0  7139.0  \n",
       "1  5211.0  7139.0  "
      ]
     },
     "execution_count": 7,
     "metadata": {},
     "output_type": "execute_result"
    }
   ],
   "source": [
    "New_Prod_LUT.head(2)"
   ]
  },
  {
   "cell_type": "code",
   "execution_count": 8,
   "metadata": {},
   "outputs": [],
   "source": [
    "# Different possible algorithms\n",
    "algo_SVD = SVD()\n",
    "algo_SVDpp = SVDpp()\n",
    "algo_NMF = NMF()\n",
    "algo_KNNBasic = KNNBasic()\n",
    "algo_KNNWithZScore = KNNWithZScore()"
   ]
  },
  {
   "cell_type": "code",
   "execution_count": 9,
   "metadata": {},
   "outputs": [],
   "source": [
    "# A reader is still needed but only the rating_scale param is required ... Comment from Surprise library\n",
    "reader = Reader(rating_scale=(1, 5))"
   ]
  },
  {
   "cell_type": "code",
   "execution_count": 10,
   "metadata": {},
   "outputs": [],
   "source": [
    "# The columns must correspond to user id, item id and ratings (in that order) ... Comment from Surprise library\n",
    "data = Dataset.load_from_df(User_Prod_NP[['User_ID', 'Product_ID', 'Normalized_Purchase']], reader)"
   ]
  },
  {
   "cell_type": "code",
   "execution_count": 11,
   "metadata": {},
   "outputs": [
    {
     "name": "stdout",
     "output_type": "stream",
     "text": [
      "Evaluating RMSE, MAE of algorithm SVD on 3 split(s).\n",
      "\n",
      "                  Fold 1  Fold 2  Fold 3  Mean    Std     \n",
      "RMSE (testset)    0.9135  0.9111  0.9107  0.9118  0.0012  \n",
      "MAE (testset)     0.7219  0.7201  0.7184  0.7201  0.0014  \n",
      "Fit time          18.70   18.73   18.64   18.69   0.04    \n",
      "Test time         1.28    1.28    1.33    1.30    0.03    \n"
     ]
    },
    {
     "data": {
      "text/plain": [
       "{'test_rmse': array([0.91348968, 0.91110248, 0.91074862]),\n",
       " 'test_mae': array([0.72189201, 0.72011006, 0.71842158]),\n",
       " 'fit_time': (18.703083276748657, 18.7264187335968, 18.63799262046814),\n",
       " 'test_time': (1.2772295475006104, 1.2790248394012451, 1.3330228328704834)}"
      ]
     },
     "execution_count": 11,
     "metadata": {},
     "output_type": "execute_result"
    }
   ],
   "source": [
    "# We can now use this dataset as we please, e.g. calling cross_validate\n",
    "cross_validate(algo_SVD, data, cv=3, verbose = True)"
   ]
  },
  {
   "cell_type": "code",
   "execution_count": 12,
   "metadata": {},
   "outputs": [
    {
     "name": "stdout",
     "output_type": "stream",
     "text": [
      "Evaluating RMSE, MAE of algorithm NMF on 3 split(s).\n",
      "\n",
      "                  Fold 1  Fold 2  Fold 3  Mean    Std     \n",
      "RMSE (testset)    0.9339  0.9373  0.9338  0.9350  0.0016  \n",
      "MAE (testset)     0.7347  0.7368  0.7344  0.7353  0.0011  \n",
      "Fit time          19.36   19.46   19.75   19.52   0.16    \n",
      "Test time         1.31    1.23    1.19    1.24    0.05    \n"
     ]
    },
    {
     "data": {
      "text/plain": [
       "{'test_rmse': array([0.93391361, 0.93732433, 0.93381975]),\n",
       " 'test_mae': array([0.73471345, 0.73678018, 0.73440258]),\n",
       " 'fit_time': (19.358744859695435, 19.459253787994385, 19.747405529022217),\n",
       " 'test_time': (1.306314468383789, 1.2260515689849854, 1.1918790340423584)}"
      ]
     },
     "execution_count": 12,
     "metadata": {},
     "output_type": "execute_result"
    }
   ],
   "source": [
    "cross_validate(algo_NMF, data, cv=3, verbose = True)"
   ]
  },
  {
   "cell_type": "code",
   "execution_count": 13,
   "metadata": {},
   "outputs": [
    {
     "name": "stdout",
     "output_type": "stream",
     "text": [
      "Computing the msd similarity matrix...\n",
      "Done computing similarity matrix.\n",
      "Computing the msd similarity matrix...\n",
      "Done computing similarity matrix.\n",
      "Computing the msd similarity matrix...\n",
      "Done computing similarity matrix.\n",
      "Evaluating RMSE, MAE of algorithm KNNBasic on 3 split(s).\n",
      "\n",
      "                  Fold 1  Fold 2  Fold 3  Mean    Std     \n",
      "RMSE (testset)    0.9542  0.9481  0.9462  0.9495  0.0034  \n",
      "MAE (testset)     0.7539  0.7489  0.7475  0.7501  0.0028  \n",
      "Fit time          10.33   10.31   10.26   10.30   0.03    \n",
      "Test time         44.14   44.55   44.29   44.32   0.17    \n"
     ]
    },
    {
     "data": {
      "text/plain": [
       "{'test_rmse': array([0.95417657, 0.94806799, 0.94618105]),\n",
       " 'test_mae': array([0.75392277, 0.74888526, 0.7475225 ]),\n",
       " 'fit_time': (10.328772783279419, 10.306680679321289, 10.261749505996704),\n",
       " 'test_time': (44.13553810119629, 44.55254912376404, 44.28618812561035)}"
      ]
     },
     "execution_count": 13,
     "metadata": {},
     "output_type": "execute_result"
    }
   ],
   "source": [
    "cross_validate(algo_KNNBasic, data, cv=3, verbose = True)"
   ]
  },
  {
   "cell_type": "code",
   "execution_count": 14,
   "metadata": {},
   "outputs": [
    {
     "name": "stdout",
     "output_type": "stream",
     "text": [
      "Computing the msd similarity matrix...\n",
      "Done computing similarity matrix.\n",
      "Computing the msd similarity matrix...\n",
      "Done computing similarity matrix.\n",
      "Computing the msd similarity matrix...\n",
      "Done computing similarity matrix.\n",
      "Evaluating RMSE, MAE of algorithm KNNWithZScore on 3 split(s).\n",
      "\n",
      "                  Fold 1  Fold 2  Fold 3  Mean    Std     \n",
      "RMSE (testset)    0.9326  0.9340  0.9309  0.9325  0.0013  \n",
      "MAE (testset)     0.7342  0.7360  0.7329  0.7344  0.0013  \n",
      "Fit time          10.70   10.75   10.71   10.72   0.02    \n",
      "Test time         51.19   47.74   47.96   48.96   1.58    \n"
     ]
    },
    {
     "data": {
      "text/plain": [
       "{'test_rmse': array([0.93260649, 0.93402983, 0.93085368]),\n",
       " 'test_mae': array([0.73418965, 0.73603964, 0.73291   ]),\n",
       " 'fit_time': (10.69895887374878, 10.754914045333862, 10.71305513381958),\n",
       " 'test_time': (51.190239667892456, 47.73562026023865, 47.9622700214386)}"
      ]
     },
     "execution_count": 14,
     "metadata": {},
     "output_type": "execute_result"
    }
   ],
   "source": [
    "cross_validate(algo_KNNWithZScore, data, cv=3, verbose = True)"
   ]
  },
  {
   "cell_type": "code",
   "execution_count": 15,
   "metadata": {},
   "outputs": [
    {
     "name": "stdout",
     "output_type": "stream",
     "text": [
      "Evaluating RMSE, MAE of algorithm SVDpp on 3 split(s).\n",
      "\n",
      "                  Fold 1  Fold 2  Fold 3  Mean    Std     \n",
      "RMSE (testset)    0.8924  0.8986  0.8950  0.8953  0.0026  \n",
      "MAE (testset)     0.7013  0.7068  0.7033  0.7038  0.0023  \n",
      "Fit time          573.41  569.10  559.91  567.47  5.63    \n",
      "Test time         20.46   21.74   21.00   21.07   0.53    \n"
     ]
    },
    {
     "data": {
      "text/plain": [
       "{'test_rmse': array([0.89236132, 0.89859065, 0.8949642 ]),\n",
       " 'test_mae': array([0.70125509, 0.70676811, 0.70325833]),\n",
       " 'fit_time': (573.412454366684, 569.1013038158417, 559.9104628562927),\n",
       " 'test_time': (20.459402084350586, 21.74066185951233, 21.00440502166748)}"
      ]
     },
     "execution_count": 15,
     "metadata": {},
     "output_type": "execute_result"
    }
   ],
   "source": [
    "cross_validate(algo_SVDpp, data, cv=3, verbose = True)"
   ]
  },
  {
   "cell_type": "code",
   "execution_count": null,
   "metadata": {},
   "outputs": [],
   "source": []
  },
  {
   "cell_type": "code",
   "execution_count": null,
   "metadata": {},
   "outputs": [],
   "source": []
  },
  {
   "cell_type": "code",
   "execution_count": null,
   "metadata": {},
   "outputs": [],
   "source": []
  },
  {
   "cell_type": "code",
   "execution_count": null,
   "metadata": {},
   "outputs": [],
   "source": []
  },
  {
   "cell_type": "code",
   "execution_count": null,
   "metadata": {},
   "outputs": [],
   "source": []
  }
 ],
 "metadata": {
  "kernelspec": {
   "display_name": "Python 3",
   "language": "python",
   "name": "python3"
  },
  "language_info": {
   "codemirror_mode": {
    "name": "ipython",
    "version": 3
   },
   "file_extension": ".py",
   "mimetype": "text/x-python",
   "name": "python",
   "nbconvert_exporter": "python",
   "pygments_lexer": "ipython3",
   "version": "3.7.3"
  }
 },
 "nbformat": 4,
 "nbformat_minor": 2
}
